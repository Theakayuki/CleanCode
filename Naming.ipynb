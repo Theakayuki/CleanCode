{
 "cells": [
  {
   "cell_type": "markdown",
   "metadata": {},
   "source": [
    "# How to name things Correctly\n",
    "\n",
    "## Variables & Constants\n",
    "- Data Containers\n",
    "  - Use nouns or short phrases with adjectives\n",
    "\n",
    "Example: user input data, validation results\n",
    "```js\n",
    "const userData = {...}\n",
    "const isValid = ...\n",
    "```\n",
    "\n",
    "## Functions/Methods\n",
    "- Commands or Calculated Values\n",
    "  - Use **verbs** or **short phrases** with adjectives\n",
    "\n",
    "Example send data to server, checked if user input is valid\n",
    "```js\n",
    "sendData()\n",
    "inputIsValid()\n",
    "```\n",
    "## Classes\n",
    "- Use classes to create \"things\"\n",
    "  - Use nouns or short phrases with nouns\n",
    "\n",
    "Example: a user, a http request body\n",
    "```js\n",
    "class User {...}\n",
    "class RequestBody {...}\n",
    "```\n",
    "## Variables & Properties\n",
    "\n",
    "- Value is an Object\n",
    "  - describe the value\n",
    "  - user, database\n",
    "  - Provide more details without redundancy\n",
    "  - authenticatedUser, sqlDatabase\n",
    "- Value is Number or String\n",
    "  - Describe the value\n",
    "  - name, age\n",
    "  - Provide more details without redundancy\n",
    "  - firstName, age\n",
    "- Value is a Boolean\n",
    "  - Answer is a true/false question\n",
    "  - isActive, loggedIn\n",
    "  - Provide more details without redundancy\n",
    "  - isActiveUser, loggedIn\n",
    "\n",
    "```python\n",
    "class User:\n",
    "  def __init__ (self, name, age, email):\n",
    "    self.name = name\n",
    "    self.age = age\n",
    "    self.email = email\n",
    "```\n"
   ]
  },
  {
   "cell_type": "code",
   "execution_count": 1,
   "metadata": {},
   "outputs": [],
   "source": [
    "class User:\n",
    "    def __init__ (self, name:str, age:int, email:str):\n",
    "        self.name = name\n",
    "        self.age = age\n",
    "        self.email = email\n",
    "\n",
    "user_data = {\n",
    "    'entered_name': {\n",
    "        'value': 'John',\n",
    "        'is_valid': True\n",
    "    },\n",
    "    'entered_age': {\n",
    "        'value': 25,\n",
    "        'is_valid': True\n",
    "    },\n",
    "    'entered_email': {\n",
    "        'value': 'john@test.com',\n",
    "        'is_valid': True\n",
    "    }\n",
    "}\n",
    "\n",
    "user = User('John', 25, 'john@test.com')"
   ]
  },
  {
   "cell_type": "markdown",
   "metadata": {},
   "source": [
    "## Naming Functions & Methods\n",
    "\n",
    "- Function preforms an Operation\n",
    "  - Describe the operation\n",
    "  - getUser(...), response.send()\n",
    "  - Provide more details if no redundancy\n",
    "  - getUserByEmail(...), response.send()\n",
    "- Function computes a Boolean\n",
    "  - Answer a true/false Question\n",
    "  - isValid(...), purchase.isPaid(...)\n",
    "  - Provide more details if no redundancy\n",
    "  - emailIsValid(...), purchase.isPaid()\n",
    "\n"
   ]
  },
  {
   "cell_type": "code",
   "execution_count": 7,
   "metadata": {},
   "outputs": [
    {
     "name": "stdout",
     "output_type": "stream",
     "text": [
      "Title: Clean Code Is Great!\n",
      "Description: Actually, writing Clean Code can be pretty fun. You'll see!\n",
      "Published: 2022-10-17 01:16:43\n"
     ]
    }
   ],
   "source": [
    "# bad names examples\n",
    "from datetime import datetime\n",
    "\n",
    "\n",
    "class BlogPost:\n",
    "    title: str\n",
    "    description: str\n",
    "    publishedDate: str\n",
    "    def __init__(self, title:str, description:str, publishedDate:str):\n",
    "        self.title = title\n",
    "        self.description = description\n",
    "        self.publishedDate = publishedDate\n",
    "\n",
    "\n",
    "    def printBlogPost(self):\n",
    "        print('Title: ' + self.title)\n",
    "        print('Description: ' + self.description)\n",
    "        print('Published: ' + self.publishedDate)\n",
    "\n",
    "\n",
    "title = 'Clean Code Is Great!'\n",
    "description = 'Actually, writing Clean Code can be pretty fun. You\\'ll see!'\n",
    "now = datetime.now()\n",
    "formattedDate = now.strftime('%Y-%m-%d %H:%M:%S')\n",
    "\n",
    "item = BlogPost(title, description, formattedDate)\n",
    "\n",
    "item.printBlogPost()"
   ]
  },
  {
   "cell_type": "code",
   "execution_count": 4,
   "metadata": {},
   "outputs": [
    {
     "name": "stdout",
     "output_type": "stream",
     "text": [
      "900\n",
      "Starting Point (X)): 50\n",
      "Starting Point (Y)): 100\n",
      "End Point X-Axis (Top Right): 140\n",
      "End Point Y-Axis (Bottom Left): 110\n"
     ]
    }
   ],
   "source": [
    "class Point:\n",
    "    def __init__(self, coordinateX:int, coordinateY:int):\n",
    "        self.coordinateX = coordinateX\n",
    "        self.coordinateY = coordinateY\n",
    "\n",
    "\n",
    "class Rectangle:\n",
    "    def __init__(self, starting_point:Point, width, height):\n",
    "        self.starting_point = starting_point\n",
    "        self.width = width\n",
    "        self.height = height\n",
    "\n",
    "    def area(self)  -> int:\n",
    "        return self.width * self.height\n",
    "\n",
    "    def corners(self):\n",
    "        top_right = self.starting_point.coordinateX + self.width\n",
    "        bottom_left = self.starting_point.coordinateY + self.height\n",
    "        print('Starting Point (X)): ' + str(self.starting_point.coordinateX))\n",
    "        print('Starting Point (Y)): ' + str(self.starting_point.coordinateY))\n",
    "        print('End Point X-Axis (Top Right): ' + str(top_right))\n",
    "        print('End Point Y-Axis (Bottom Left): ' + str(bottom_left))\n",
    "\n",
    "\n",
    "def create_rectangle():\n",
    "    starting_corner = Point(50, 100)\n",
    "    rectangle = Rectangle(starting_corner, 90, 10)\n",
    "\n",
    "    return rectangle\n",
    "\n",
    "\n",
    "rectangle = create_rectangle()\n",
    "\n",
    "print(rectangle.area())\n",
    "rectangle.corners()"
   ]
  }
 ],
 "metadata": {
  "kernelspec": {
   "display_name": "Python 3.10.8 64-bit",
   "language": "python",
   "name": "python3"
  },
  "language_info": {
   "codemirror_mode": {
    "name": "ipython",
    "version": 3
   },
   "file_extension": ".py",
   "mimetype": "text/x-python",
   "name": "python",
   "nbconvert_exporter": "python",
   "pygments_lexer": "ipython3",
   "version": "3.10.8"
  },
  "orig_nbformat": 4,
  "vscode": {
   "interpreter": {
    "hash": "6da95dbc38152c67ec48af526bd9a5cf6d32bd03f43621e5c7694cd273b8f1ca"
   }
  }
 },
 "nbformat": 4,
 "nbformat_minor": 2
}
