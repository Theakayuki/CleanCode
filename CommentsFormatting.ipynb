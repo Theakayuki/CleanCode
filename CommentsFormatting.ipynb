{
 "cells": [
  {
   "cell_type": "markdown",
   "metadata": {},
   "source": [
    "# Comments\n",
    "\n",
    "Try to write the code to be as self-explanatory as possible, more comments are bad, and redundant if clean code is done right.\n",
    "\n",
    "**Bad Comments**\n",
    "- Redundant Information\n",
    "- Dividers/Block Markers\n",
    "- Misleading Comments\n",
    "- Commented-Out Code\n",
    "\n",
    "**Good Comments**\n",
    "- Legal Information\n",
    "- Explanation that can't be understood with good naming\n",
    "- Warning of something\n",
    "- To-do Notes\n",
    "- Documentation Strings \n",
    "\n",
    "# Code Formatting\n",
    "\n",
    "Code formatting improves readability & Transports meaning\n",
    "|Vertical Formatting|Horizontal Formatting|\n",
    "|---|---|\n",
    "|Space between lines|Indentation|\n",
    "|Grouping of code|Space Between Code|\n",
    "| |Line Width|\n",
    "\n",
    "## Vertical Formatting\n",
    "\n",
    "Code should be readable like an essay - top to bottom without too many \"Jumps\"\n",
    "\n",
    "If the file becomes too big, Consider Splitting into multiple files.\n",
    "\n",
    "Different concepts should be separated by space. Such as between ending and beginning of functions/methods\n",
    "\n",
    "\n",
    "## Horizontal Formatting\n",
    "\n",
    "Lines of code should be readable without scrolling\n",
    "- Use Indentation\n",
    "- Break long statements into multiple shorter ones.\n",
    "  - One way to do it is to try to extract to variables and feed that into code to separate it.\n",
    "- Use Clear and not unreadable long names.\n",
    "\n"
   ]
  },
  {
   "cell_type": "code",
   "execution_count": null,
   "metadata": {},
   "outputs": [],
   "source": [
    "# (c) Maximilian Schwarzmüller / Academind GmbH\n",
    "\n",
    "from os import path, makedirs\n",
    "from pathlib import Path\n",
    "\n",
    "class DiskStorage:\n",
    "    def __init__(self, directory_name):\n",
    "        self.storage_directory = directory_name\n",
    "\n",
    "    def get_directory_path(self):\n",
    "        return Path(self.storage_directory)\n",
    "\n",
    "    def create_directory(self):\n",
    "        \"\"\"This must be called before a file is inserted\"\"\"\n",
    "        if (not path.exists(self.get_directory_path())):\n",
    "            makedirs(self.storage_directory)\n",
    "\n",
    "    def insert_file(self, file_name, content):\n",
    "        \"\"\"Warning: Directory must exist in advance\"\"\"\n",
    "        file_path = self.get_directory_path() / file_name\n",
    "        file = open(file_path, 'w')\n",
    "        file.write(content)\n",
    "        file.close()\n",
    "        # Todo: Add proper error handling\n",
    "\n",
    "\n",
    "log_storage = DiskStorage('logs')\n",
    "# log_storage.create_directory()\n",
    "log_storage.insert_file('test.txt', 'Test')"
   ]
  }
 ],
 "metadata": {
  "kernelspec": {
   "display_name": "Python 3.10.4 64-bit",
   "language": "python",
   "name": "python3"
  },
  "language_info": {
   "name": "python",
   "version": "3.10.4"
  },
  "orig_nbformat": 4,
  "vscode": {
   "interpreter": {
    "hash": "369f2c481f4da34e4445cda3fffd2e751bd1c4d706f27375911949ba6bb62e1c"
   }
  }
 },
 "nbformat": 4,
 "nbformat_minor": 2
}
